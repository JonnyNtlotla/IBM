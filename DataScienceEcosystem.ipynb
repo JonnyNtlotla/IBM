{
  "metadata": {
    "language_info": {
      "codemirror_mode": {
        "name": "python",
        "version": 3
      },
      "file_extension": ".py",
      "mimetype": "text/x-python",
      "name": "python",
      "nbconvert_exporter": "python",
      "pygments_lexer": "ipython3",
      "version": "3.8"
    },
    "kernelspec": {
      "name": "python",
      "display_name": "Pyolite",
      "language": "python"
    },
    "colab": {
      "provenance": []
    }
  },
  "nbformat_minor": 0,
  "nbformat": 4,
  "cells": [
    {
      "cell_type": "markdown",
      "source": [
        "# Data Science Tools and Ecosystem"
      ],
      "metadata": {
        "id": "CgTEZN_JFNEw"
      }
    },
    {
      "cell_type": "markdown",
      "source": [
        "In this notebook, Data Science Tools and Ecosystem are summarized."
      ],
      "metadata": {
        "id": "j4ZdxKRQFNEy"
      }
    },
    {
      "cell_type": "markdown",
      "source": [
        "**Objectives:**\n",
        "- To show popular Data Science Languages\n",
        "- To show some of the commonly used Data Science libraries\n",
        "- To demonstrate arithmetic calculations using Python"
      ],
      "metadata": {
        "id": "imokAMWeFNEz"
      }
    },
    {
      "cell_type": "markdown",
      "source": [
        "Some of the popular languages that Data Scientists use are:\n",
        "1. Python\n",
        "2. R\n",
        "3. Julia"
      ],
      "metadata": {
        "id": "HcpLH3BsFNEz"
      }
    },
    {
      "cell_type": "markdown",
      "source": [
        "Some of the commonly used libraries used by Data Scientists include:\n",
        "1. Pandas\n",
        "2. Numpy\n",
        "3. TensorFlow"
      ],
      "metadata": {
        "id": "e0qOnEbpFNE0"
      }
    },
    {
      "cell_type": "markdown",
      "source": [
        "| Data Science Tools |\n",
        "| ------------------ |\n",
        "| Github             |\n",
        "| GitLab             |\n",
        "| Google Colab       |\n"
      ],
      "metadata": {
        "id": "Yyy5TifdFNE0"
      }
    },
    {
      "cell_type": "markdown",
      "source": [
        "\n",
        "### Below are a few examples of evaluating arithmetic expressions in Python"
      ],
      "metadata": {
        "id": "DN7lQ_iTFNE0"
      }
    },
    {
      "cell_type": "code",
      "source": [
        "#This is a simple arithmetic expression to mutiply then add integers \n",
        "(3*4)+5"
      ],
      "metadata": {
        "trusted": true,
        "id": "nGSRaZX6FNE1",
        "outputId": "01db070a-c3e2-49ff-d2fc-b592de6c5fc3"
      },
      "execution_count": null,
      "outputs": [
        {
          "execution_count": 5,
          "output_type": "execute_result",
          "data": {
            "text/plain": "17"
          },
          "metadata": {}
        }
      ]
    },
    {
      "cell_type": "code",
      "source": [
        "#This will convert 200 minutes to hours by diving by 60\n",
        "round((200/60),2) "
      ],
      "metadata": {
        "trusted": true,
        "id": "21sFj3HSFNE2",
        "outputId": "0157d872-6487-4bf0-cc3c-e8f3bf70e534"
      },
      "execution_count": null,
      "outputs": [
        {
          "execution_count": 9,
          "output_type": "execute_result",
          "data": {
            "text/plain": "3.33"
          },
          "metadata": {}
        }
      ]
    },
    {
      "cell_type": "markdown",
      "source": [
        "## Author\n",
        "John\n"
      ],
      "metadata": {
        "id": "tzGKuBGoFNE3"
      }
    },
    {
      "cell_type": "markdown",
      "source": [
        "https://github.com/JonnyNtlotla/IBM/blob/main/DataScienceEcosystem.ipynb"
      ],
      "metadata": {
        "id": "zx0vPVeDGGMy"
      }
    }
  ]
}